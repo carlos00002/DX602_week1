{
 "cells": [
  {
   "cell_type": "code",
   "execution_count": null,
   "id": "5423419f",
   "metadata": {},
   "outputs": [],
   "source": []
  },
  {
   "cell_type": "code",
   "execution_count": null,
   "id": "fae786e3",
   "metadata": {},
   "outputs": [
    {
     "data": {
      "text/plain": [
       "246510546910"
      ]
     },
     "execution_count": 1,
     "metadata": {},
     "output_type": "execute_result"
    }
   ],
   "source": [
    "#question 1\n",
    "12387123478 +234123423432"
   ]
  },
  {
   "cell_type": "code",
   "execution_count": 2,
   "id": "4ab122c7",
   "metadata": {},
   "outputs": [
    {
     "data": {
      "text/plain": [
       "75523322376"
      ]
     },
     "execution_count": 2,
     "metadata": {},
     "output_type": "execute_result"
    }
   ],
   "source": [
    "#question 2\n",
    "6134123 *12312"
   ]
  },
  {
   "cell_type": "code",
   "execution_count": 3,
   "id": "05cd4ed1",
   "metadata": {},
   "outputs": [
    {
     "data": {
      "text/plain": [
       "282475249"
      ]
     },
     "execution_count": 3,
     "metadata": {},
     "output_type": "execute_result"
    }
   ],
   "source": [
    "#question 3\n",
    "7**10"
   ]
  }
 ],
 "metadata": {
  "kernelspec": {
   "display_name": "Python 3",
   "language": "python",
   "name": "python3"
  },
  "language_info": {
   "codemirror_mode": {
    "name": "ipython",
    "version": 3
   },
   "file_extension": ".py",
   "mimetype": "text/x-python",
   "name": "python",
   "nbconvert_exporter": "python",
   "pygments_lexer": "ipython3",
   "version": "3.12.1"
  }
 },
 "nbformat": 4,
 "nbformat_minor": 5
}
